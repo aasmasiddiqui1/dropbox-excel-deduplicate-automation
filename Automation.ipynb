{
 "cells": [
  {
   "cell_type": "code",
   "execution_count": 10,
   "id": "dd964e34-8985-49ab-b4b9-127b95b76710",
   "metadata": {},
   "outputs": [],
   "source": [
    "import pandas as pd\n",
    "from datetime import datetime\n",
    "import dropbox"
   ]
  },
  {
   "cell_type": "code",
   "execution_count": 11,
   "id": "af701128-1c55-4746-8788-73204b1e35ce",
   "metadata": {},
   "outputs": [],
   "source": [
    "ACCESS_TOKEN = 'YOUR_ACCESS_TOKEN'"
   ]
  },
  {
   "cell_type": "code",
   "execution_count": 12,
   "id": "d8629d16-82cc-43a7-ae4f-90173b6647f3",
   "metadata": {},
   "outputs": [],
   "source": [
    "dbx = dropbox.Dropbox(ACCESS_TOKEN)"
   ]
  },
  {
   "cell_type": "code",
   "execution_count": null,
   "id": "6596f47b-a59c-4034-94a1-432b94305d66",
   "metadata": {},
   "outputs": [],
   "source": []
  }
 ],
 "metadata": {
  "kernelspec": {
   "display_name": "Python 3 (ipykernel)",
   "language": "python",
   "name": "python3"
  },
  "language_info": {
   "codemirror_mode": {
    "name": "ipython",
    "version": 3
   },
   "file_extension": ".py",
   "mimetype": "text/x-python",
   "name": "python",
   "nbconvert_exporter": "python",
   "pygments_lexer": "ipython3",
   "version": "3.12.4"
  }
 },
 "nbformat": 4,
 "nbformat_minor": 5
}
