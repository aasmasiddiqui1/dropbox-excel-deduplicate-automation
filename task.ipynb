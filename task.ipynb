{
 "cells": [
  {
   "cell_type": "code",
   "execution_count": 1,
   "id": "dd96bd0a-ec33-450e-9acc-0a373df5e53c",
   "metadata": {},
   "outputs": [
    {
     "name": "stdout",
     "output_type": "stream",
     "text": [
      "Requirement already satisfied: pandas in c:\\users\\administrator\\appdata\\local\\programs\\python\\python312\\lib\\site-packages (2.2.2)\n",
      "Collecting openpyxl\n",
      "  Using cached openpyxl-3.1.5-py2.py3-none-any.whl.metadata (2.5 kB)\n",
      "Requirement already satisfied: numpy>=1.26.0 in c:\\users\\administrator\\appdata\\local\\programs\\python\\python312\\lib\\site-packages (from pandas) (2.0.0)\n",
      "Requirement already satisfied: python-dateutil>=2.8.2 in c:\\users\\administrator\\appdata\\local\\programs\\python\\python312\\lib\\site-packages (from pandas) (2.9.0.post0)\n",
      "Requirement already satisfied: pytz>=2020.1 in c:\\users\\administrator\\appdata\\local\\programs\\python\\python312\\lib\\site-packages (from pandas) (2024.1)\n",
      "Requirement already satisfied: tzdata>=2022.7 in c:\\users\\administrator\\appdata\\local\\programs\\python\\python312\\lib\\site-packages (from pandas) (2024.1)\n",
      "Requirement already satisfied: et-xmlfile in c:\\users\\administrator\\appdata\\local\\programs\\python\\python312\\lib\\site-packages (from openpyxl) (1.1.0)\n",
      "Requirement already satisfied: six>=1.5 in c:\\users\\administrator\\appdata\\local\\programs\\python\\python312\\lib\\site-packages (from python-dateutil>=2.8.2->pandas) (1.16.0)\n",
      "Using cached openpyxl-3.1.5-py2.py3-none-any.whl (250 kB)\n",
      "Installing collected packages: openpyxl\n",
      "Successfully installed openpyxl-3.1.5\n",
      "Note: you may need to restart the kernel to use updated packages.\n"
     ]
    },
    {
     "name": "stderr",
     "output_type": "stream",
     "text": [
      "\n",
      "[notice] A new release of pip is available: 24.0 -> 24.1.2\n",
      "[notice] To update, run: python.exe -m pip install --upgrade pip\n"
     ]
    }
   ],
   "source": [
    "pip install pandas openpyxl"
   ]
  },
  {
   "cell_type": "code",
   "execution_count": 6,
   "id": "cdbd5cd8-64af-4882-9f82-baabb640d26d",
   "metadata": {},
   "outputs": [
    {
     "name": "stdout",
     "output_type": "stream",
     "text": [
      "Requirement already satisfied: pip in c:\\users\\administrator\\appdata\\local\\programs\\python\\python312\\lib\\site-packages (24.0)\n",
      "Collecting pip\n",
      "  Downloading pip-24.1.2-py3-none-any.whl.metadata (3.6 kB)\n",
      "Downloading pip-24.1.2-py3-none-any.whl (1.8 MB)\n",
      "   ---------------------------------------- 0.0/1.8 MB ? eta -:--:--\n",
      "   ---------------------------------------- 0.0/1.8 MB ? eta -:--:--\n",
      "   ---------------------------------------- 0.0/1.8 MB 217.9 kB/s eta 0:00:09\n",
      "   - -------------------------------------- 0.1/1.8 MB 656.4 kB/s eta 0:00:03\n",
      "   -- ------------------------------------- 0.1/1.8 MB 751.6 kB/s eta 0:00:03\n",
      "   -- ------------------------------------- 0.1/1.8 MB 722.1 kB/s eta 0:00:03\n",
      "   --- ------------------------------------ 0.2/1.8 MB 756.6 kB/s eta 0:00:03\n",
      "   --- ------------------------------------ 0.2/1.8 MB 700.2 kB/s eta 0:00:03\n",
      "   --- ------------------------------------ 0.2/1.8 MB 700.2 kB/s eta 0:00:03\n",
      "   --- ------------------------------------ 0.2/1.8 MB 700.2 kB/s eta 0:00:03\n",
      "   ------ --------------------------------- 0.3/1.8 MB 706.2 kB/s eta 0:00:03\n",
      "   ------- -------------------------------- 0.3/1.8 MB 726.4 kB/s eta 0:00:03\n",
      "   -------- ------------------------------- 0.4/1.8 MB 716.8 kB/s eta 0:00:03\n",
      "   -------- ------------------------------- 0.4/1.8 MB 711.4 kB/s eta 0:00:03\n",
      "   --------- ------------------------------ 0.4/1.8 MB 726.4 kB/s eta 0:00:02\n",
      "   --------- ------------------------------ 0.4/1.8 MB 726.4 kB/s eta 0:00:02\n",
      "   --------- ------------------------------ 0.4/1.8 MB 726.4 kB/s eta 0:00:02\n",
      "   --------- ------------------------------ 0.5/1.8 MB 599.9 kB/s eta 0:00:03\n",
      "   ------------ --------------------------- 0.6/1.8 MB 722.8 kB/s eta 0:00:02\n",
      "   ------------- -------------------------- 0.6/1.8 MB 732.3 kB/s eta 0:00:02\n",
      "   ------------- -------------------------- 0.6/1.8 MB 729.7 kB/s eta 0:00:02\n",
      "   ------------- -------------------------- 0.6/1.8 MB 729.7 kB/s eta 0:00:02\n",
      "   --------------- ------------------------ 0.7/1.8 MB 740.5 kB/s eta 0:00:02\n",
      "   ---------------- ----------------------- 0.8/1.8 MB 725.0 kB/s eta 0:00:02\n",
      "   ----------------- ---------------------- 0.8/1.8 MB 740.9 kB/s eta 0:00:02\n",
      "   ------------------ --------------------- 0.9/1.8 MB 716.0 kB/s eta 0:00:02\n",
      "   -------------------- ------------------- 0.9/1.8 MB 729.1 kB/s eta 0:00:02\n",
      "   -------------------- ------------------- 0.9/1.8 MB 736.6 kB/s eta 0:00:02\n",
      "   --------------------- ------------------ 1.0/1.8 MB 724.3 kB/s eta 0:00:02\n",
      "   ---------------------- ----------------- 1.0/1.8 MB 737.3 kB/s eta 0:00:02\n",
      "   ----------------------- ---------------- 1.1/1.8 MB 726.8 kB/s eta 0:00:02\n",
      "   ----------------------- ---------------- 1.1/1.8 MB 724.5 kB/s eta 0:00:02\n",
      "   ------------------------ --------------- 1.1/1.8 MB 730.0 kB/s eta 0:00:01\n",
      "   ------------------------- -------------- 1.2/1.8 MB 726.4 kB/s eta 0:00:01\n",
      "   -------------------------- ------------- 1.2/1.8 MB 736.8 kB/s eta 0:00:01\n",
      "   -------------------------- ------------- 1.2/1.8 MB 722.3 kB/s eta 0:00:01\n",
      "   ---------------------------- ----------- 1.3/1.8 MB 725.6 kB/s eta 0:00:01\n",
      "   ---------------------------- ----------- 1.3/1.8 MB 730.2 kB/s eta 0:00:01\n",
      "   ----------------------------- ---------- 1.4/1.8 MB 727.9 kB/s eta 0:00:01\n",
      "   ------------------------------ --------- 1.4/1.8 MB 726.0 kB/s eta 0:00:01\n",
      "   ------------------------------ --------- 1.4/1.8 MB 729.9 kB/s eta 0:00:01\n",
      "   -------------------------------- ------- 1.5/1.8 MB 727.0 kB/s eta 0:00:01\n",
      "   -------------------------------- ------- 1.5/1.8 MB 731.1 kB/s eta 0:00:01\n",
      "   --------------------------------- ------ 1.5/1.8 MB 724.1 kB/s eta 0:00:01\n",
      "   ---------------------------------- ----- 1.6/1.8 MB 727.6 kB/s eta 0:00:01\n",
      "   ----------------------------------- ---- 1.6/1.8 MB 730.8 kB/s eta 0:00:01\n",
      "   ----------------------------------- ---- 1.6/1.8 MB 729.4 kB/s eta 0:00:01\n",
      "   ------------------------------------ --- 1.7/1.8 MB 727.9 kB/s eta 0:00:01\n",
      "   ------------------------------------- -- 1.7/1.8 MB 729.9 kB/s eta 0:00:01\n",
      "   -------------------------------------- - 1.8/1.8 MB 732.0 kB/s eta 0:00:01\n",
      "   ---------------------------------------  1.8/1.8 MB 730.5 kB/s eta 0:00:01\n",
      "   ---------------------------------------- 1.8/1.8 MB 725.7 kB/s eta 0:00:00\n",
      "Installing collected packages: pip\n",
      "  Attempting uninstall: pip\n",
      "    Found existing installation: pip 24.0\n",
      "    Uninstalling pip-24.0:\n",
      "      Successfully uninstalled pip-24.0\n",
      "Successfully installed pip-24.1.2\n",
      "Note: you may need to restart the kernel to use updated packages.\n"
     ]
    }
   ],
   "source": [
    "pip install --upgrade pip"
   ]
  },
  {
   "cell_type": "code",
   "execution_count": 2,
   "id": "105324b4-bee7-4309-ad25-d7614b729d92",
   "metadata": {},
   "outputs": [],
   "source": [
    "import pandas as pd"
   ]
  },
  {
   "cell_type": "code",
   "execution_count": 8,
   "id": "e3d97455-4b3b-47a9-a424-5ae304b3e45f",
   "metadata": {},
   "outputs": [],
   "source": [
    "input_file = r'C:\\Users\\Administrator\\Desktop\\files\\input file\\input_file.xlsx'"
   ]
  },
  {
   "cell_type": "code",
   "execution_count": 11,
   "id": "dccb5bd7-6841-444b-ab9f-21f8361eba09",
   "metadata": {},
   "outputs": [],
   "source": [
    "df = pd.read_excel(input_file, sheet_name=0)"
   ]
  },
  {
   "cell_type": "code",
   "execution_count": 13,
   "id": "18629c73-607a-4f2a-a2cc-6d792190d164",
   "metadata": {},
   "outputs": [],
   "source": [
    "df_unique = df.drop_duplicates(subset=['ORDERNO'], keep='first')"
   ]
  },
  {
   "cell_type": "code",
   "execution_count": 14,
   "id": "9a0f0cb4-4ae0-4db5-9b79-6602f7808f1a",
   "metadata": {},
   "outputs": [],
   "source": [
    "output_file = r'C:\\Users\\Administrator\\Desktop\\files\\output_unique.xlsx'"
   ]
  },
  {
   "cell_type": "code",
   "execution_count": 15,
   "id": "b9803379-8713-41e7-8198-f305a001af2e",
   "metadata": {},
   "outputs": [],
   "source": [
    "df_unique.to_excel(output_file, index=False, engine='openpyxl')"
   ]
  },
  {
   "cell_type": "code",
   "execution_count": null,
   "id": "f4a0d997-e513-4d56-95b4-a600570c975a",
   "metadata": {},
   "outputs": [],
   "source": []
  }
 ],
 "metadata": {
  "kernelspec": {
   "display_name": "Python 3 (ipykernel)",
   "language": "python",
   "name": "python3"
  },
  "language_info": {
   "codemirror_mode": {
    "name": "ipython",
    "version": 3
   },
   "file_extension": ".py",
   "mimetype": "text/x-python",
   "name": "python",
   "nbconvert_exporter": "python",
   "pygments_lexer": "ipython3",
   "version": "3.12.4"
  }
 },
 "nbformat": 4,
 "nbformat_minor": 5
}
